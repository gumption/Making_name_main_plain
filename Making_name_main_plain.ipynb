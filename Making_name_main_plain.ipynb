{
 "metadata": {
  "name": "",
  "signature": "sha256:40de70e2255fc12d9b67ebfcfc7fbe81b9f6dbd926f773b166fbcfd4823b2ba8"
 },
 "nbformat": 3,
 "nbformat_minor": 0,
 "worksheets": [
  {
   "cells": [
    {
     "cell_type": "heading",
     "level": 1,
     "metadata": {},
     "source": [
      "Making `__name__ == '__main__'` plain"
     ]
    },
    {
     "cell_type": "markdown",
     "metadata": {},
     "source": [
      "In my last IPython Notebook, I shared a few lessons I learned about [using `argparse` and `parse_known_args` in IPython Notebooks](http://nbviewer.ipython.org/github/gumption/Using_argparse_and_parse_known_args_in_IPython_Notebooks/blob/master/Using_argparse_and_parse_known_args_in_IPython_Notebooks.ipynb).\n",
      "\n",
      "It occurred to me after publishing the notebook that I hadn't really motivated or explained the use of the [Python top-level script environment](https://docs.python.org/2/library/__main__.html), in which the `__name__` attribute has the value `'__main__'`. Here is how the Python documentation explains it:\n",
      "\n",
      "> This module represents the (otherwise anonymous) scope in which the interpreter\u2019s main program executes \u2014 commands read either from standard input, from a script file, or from an interactive prompt. It is this environment in which the idiomatic \u201cconditional script\u201d stanza causes a script to run:\n",
      "\n",
      "> `if __name__ == \"__main__\":\n",
      ">    main()`\n",
      "\n",
      "What may not be clear from this documentation, but is important, is that the code inside the scope of this `if __name__ == '__main__'` statement will _only_ execute when the script is invoked as a main program, e.g., from a command line ... or in a cell within an IPython Notebook.\n",
      "\n",
      "I will demonstrate the differences between what happens to statements inside and outside such a \"conditional script\" stanza with a few simple examples below."
     ]
    },
    {
     "cell_type": "markdown",
     "metadata": {},
     "source": [
      "If you execute a Python script as a main program or inside an IPython Notebook cell, all the statements are executed, regardless of whether they are inside an `if __name__ == '__main__'` scope.\n",
      "\n",
      "The following cell includes a `print` statement, a function definition (that includes a `print` statement), and then another `print` statement inside the scope of `if __name__ == '__main__'`. Both `print` statements outside of the function definition will be executed (the one inside the function will not execute because the function is not invoked).\n",
      "\n",
      "Oh, first, I'm going to follow a practice I recently adopted, of importing the [`print_function`](https://www.python.org/dev/peps/pep-3105/) from [`__future__`](https://docs.python.org/2/library/__future__.html) to make the notebook [more] compatible with either Python 2 or Python 3 (I have not tested it under Python 3).\n",
      "\n",
      "[Note that the notebook should work fine in OS X or Linux ... but due to the use of the `%%bash` cell magic, it will not work without modification under Windows.]"
     ]
    },
    {
     "cell_type": "code",
     "collapsed": false,
     "input": [
      "from __future__ import print_function"
     ],
     "language": "python",
     "metadata": {},
     "outputs": [],
     "prompt_number": 1
    },
    {
     "cell_type": "code",
     "collapsed": false,
     "input": [
      "# always executed, whether imported or executed as main program\n",
      "print(\"In __main__ (but not inside if __name__ == '__main__'), __name__ == {}\".format(__name__))\n",
      "\n",
      "def not_main():\n",
      "    # only executed when function is called\n",
      "    print(\"In function named not_main, __name__ == {}\".format(__name__))\n",
      "\n",
      "if __name__ == '__main__':\n",
      "    # only executed when executed as main program (not when imported)\n",
      "    print(\"In __main__ (and inside if __name__ == '__main__'), __name__ == {}\".format(__name__))"
     ],
     "language": "python",
     "metadata": {},
     "outputs": [
      {
       "output_type": "stream",
       "stream": "stdout",
       "text": [
        "In __main__ (but not inside if __name__ == '__main__'), __name__ == __main__\n",
        "In __main__ (and inside if __name__ == '__main__'), __name__ == __main__\n"
       ]
      }
     ],
     "prompt_number": 2
    },
    {
     "cell_type": "markdown",
     "metadata": {},
     "source": [
      "The code in this cell can be saved to a file using `%%writefile` cell magic, enabling us to import it in the next cell."
     ]
    },
    {
     "cell_type": "code",
     "collapsed": false,
     "input": [
      "%%writefile main_not_main.py\n",
      "\n",
      "from __future__ import print_function\n",
      "\n",
      "print(\"In __main__ (but not inside if __name__ == '__main__'), __name__ == {}\".format(__name__))\n",
      "\n",
      "def not_main():\n",
      "    # only executed when function is called\n",
      "    print(\"In function named not_main, __name__ == {}\".format(__name__))\n",
      "\n",
      "if __name__ == '__main__':\n",
      "    # only executed when executed as main program (not when imported)\n",
      "    print(\"In __main__ (and inside if __name__ == '__main__'), __name__ == {}\".format(__name__))"
     ],
     "language": "python",
     "metadata": {},
     "outputs": [
      {
       "output_type": "stream",
       "stream": "stdout",
       "text": [
        "Overwriting main_not_main.py\n"
       ]
      }
     ],
     "prompt_number": 3
    },
    {
     "cell_type": "markdown",
     "metadata": {},
     "source": [
      "Note that in order to import the file that was just saved, your current directory will need to include an `__init__.py` file, and the directory (or the empty string, which always defaults to the current directory, whatever that may be) will need to be included in your `sys.path`."
     ]
    },
    {
     "cell_type": "code",
     "collapsed": false,
     "input": [
      "import os\n",
      "import sys\n",
      "if '' not in sys.path and os.getcwd() not in sys.path:\n",
      "    sys.path.insert(1, '')"
     ],
     "language": "python",
     "metadata": {},
     "outputs": [],
     "prompt_number": 4
    },
    {
     "cell_type": "markdown",
     "metadata": {},
     "source": [
      "Note that I don't believe `%%bash` cell magic works under Windows, and I don't know whether there is an equivalent cell magic that invokes the command line under Windows."
     ]
    },
    {
     "cell_type": "code",
     "collapsed": false,
     "input": [
      "%%bash\n",
      "touch __init__.py"
     ],
     "language": "python",
     "metadata": {},
     "outputs": [],
     "prompt_number": 5
    },
    {
     "cell_type": "markdown",
     "metadata": {},
     "source": [
      "The following cell should now import the file saved above, after printing a string, and then print another string, before invoking the `not_main()` function in `main_not_main.py`, which will in turn invoke a single `print` statement."
     ]
    },
    {
     "cell_type": "code",
     "collapsed": false,
     "input": [
      "print(\"Importing main_not_main\")\n",
      "import main_not_main\n",
      "\n",
      "print(\"Calling imported function main_not_main.not_main()\")\n",
      "main_not_main.not_main()"
     ],
     "language": "python",
     "metadata": {},
     "outputs": [
      {
       "output_type": "stream",
       "stream": "stdout",
       "text": [
        "Importing main_not_main\n",
        "In __main__ (but not inside if __name__ == '__main__'), __name__ == main_not_main\n",
        "Calling imported function main_not_main.not_main()\n",
        "In function named not_main, __name__ == main_not_main\n"
       ]
      }
     ],
     "prompt_number": 6
    },
    {
     "cell_type": "markdown",
     "metadata": {},
     "source": [
      "If we now save the code in the cell above to yet another file, we can invoke that file as a main program from the command line (under OS X or Linux)."
     ]
    },
    {
     "cell_type": "code",
     "collapsed": false,
     "input": [
      "%%writefile main.py\n",
      "\n",
      "print(\"Importing main_not_main\")\n",
      "import main_not_main\n",
      "\n",
      "print(\"Calling imported function main_not_main.not_main()\")\n",
      "main_not_main.not_main()"
     ],
     "language": "python",
     "metadata": {},
     "outputs": [
      {
       "output_type": "stream",
       "stream": "stdout",
       "text": [
        "Overwriting main.py\n"
       ]
      }
     ],
     "prompt_number": 7
    },
    {
     "cell_type": "markdown",
     "metadata": {},
     "source": [
      "When we invoke the code above as a main program, we should see all the `print` statements from the two files, except for the print statement inside `if __name__ == '__main__'` statement in `main_not_main.py` (since that file is imported, but not run as a main program in this cell)."
     ]
    },
    {
     "cell_type": "code",
     "collapsed": false,
     "input": [
      "%%bash\n",
      "python main.py"
     ],
     "language": "python",
     "metadata": {},
     "outputs": [
      {
       "output_type": "stream",
       "stream": "stdout",
       "text": [
        "Importing main_not_main\n",
        "In __main__ (but not inside if __name__ == '__main__'), __name__ == main_not_main\n",
        "Calling imported function main_not_main.not_main()\n",
        "In function named not_main, __name__ == main_not_main\n"
       ]
      }
     ],
     "prompt_number": 8
    },
    {
     "cell_type": "code",
     "collapsed": false,
     "input": [],
     "language": "python",
     "metadata": {},
     "outputs": [],
     "prompt_number": 8
    }
   ],
   "metadata": {}
  }
 ]
}